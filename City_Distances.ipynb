{
 "cells": [
  {
   "cell_type": "code",
   "execution_count": 1,
   "metadata": {},
   "outputs": [],
   "source": [
    "#Import dependencies\n",
    "import pandas as pd\n",
    "import requests\n",
    "\n",
    "#API pull for latest salary info from www.levels.fyi\n",
    "salaryData = requests.get('https://www.levels.fyi/js/salaryData.json').json()\n",
    "salary_df = pd.DataFrame(salaryData)\n",
    "\n",
    "#dropping columns that are not relevant to project\n",
    "salary_df = salary_df.drop(['cityid', 'dmaid','rowNumber','otherdetails','tag', 'basesalary', 'stockgrantvalue', 'bonus', 'gender'], axis=1)\n",
    "\n",
    "#converting to float to allow for summary stats\n",
    "salary_df[\"totalyearlycompensation\"] = pd.to_numeric(salary_df[\"totalyearlycompensation\"])\n",
    "salary_df[\"yearsofexperience\"] = pd.to_numeric(salary_df[\"yearsofexperience\"])\n",
    "salary_df[\"yearsatcompany\"] = pd.to_numeric(salary_df[\"yearsatcompany\"])\n",
    "\n",
    "#coverting timestamp from object to datetime\n",
    "salary_df['timestamp'] =  pd.to_datetime(salary_df['timestamp'], infer_datetime_format=True)\n",
    "\n",
    "# Create separate cols for city, state and country\n",
    "def split_location(location):\n",
    "    items = location.split(', ')\n",
    "    city = items[0]\n",
    "    state = items[1]\n",
    "    \n",
    "    if len(items)==2:\n",
    "        country = 'US'\n",
    "    elif len(items)==3:\n",
    "        country = items[2].strip()\n",
    "    elif len(items)==4:\n",
    "        country = ', '.join([i.strip() for i in items[2:]])\n",
    "    else:\n",
    "        country = None\n",
    "        print(location)\n",
    "        \n",
    "    return [city, state, country]\n",
    "\n",
    "salary_df['loc_items'] = salary_df.location.apply(lambda x: split_location(x))\n",
    "salary_df['city'] = salary_df.loc_items.apply(lambda x: x[0])\n",
    "salary_df['state'] = salary_df.loc_items.apply(lambda x: x[1])\n",
    "salary_df['country'] = salary_df.loc_items.apply(lambda x: x[2])\n",
    "\n",
    "# dropping location column  \n",
    "salary_df = salary_df.drop(['location','loc_items'], axis=1)\n",
    "\n",
    "#isolating US data for further exploration\n",
    "us_df = salary_df[salary_df.country=='US'].copy()\n",
    "\n",
    "#isolating us data to data scientist titles\n",
    "us_df = us_df[us_df.title=='Data Scientist'].copy()\n",
    "\n",
    "\n",
    "#merging dataframes into on collection\n",
    "#cleaned_data = pd.concat([apple_df, amazon_df, fb_df, google_df, micro_df ])\n",
    "\n",
    "#import dependency\n",
    "#import pymongo\n",
    "#from pymongo import MongoClient\n",
    "#establish connection to pymongo\n",
    "#conn =\"mongodb://127.0.0.1:27017/\"\n",
    "#client = MongoClient(conn)\n",
    "#db = client.ds_salaries\n",
    "#collection = db.top5\n",
    "#cleaned_dict = cleaned_data.to_dict(\"records\")\n",
    "#collection.insert_many(cleaned_dict)"
   ]
  },
  {
   "cell_type": "code",
   "execution_count": 2,
   "metadata": {},
   "outputs": [
    {
     "data": {
      "text/html": [
       "<div>\n",
       "<style scoped>\n",
       "    .dataframe tbody tr th:only-of-type {\n",
       "        vertical-align: middle;\n",
       "    }\n",
       "\n",
       "    .dataframe tbody tr th {\n",
       "        vertical-align: top;\n",
       "    }\n",
       "\n",
       "    .dataframe thead th {\n",
       "        text-align: right;\n",
       "    }\n",
       "</style>\n",
       "<table border=\"1\" class=\"dataframe\">\n",
       "  <thead>\n",
       "    <tr style=\"text-align: right;\">\n",
       "      <th></th>\n",
       "      <th>timestamp</th>\n",
       "      <th>company</th>\n",
       "      <th>level</th>\n",
       "      <th>title</th>\n",
       "      <th>totalyearlycompensation</th>\n",
       "      <th>yearsofexperience</th>\n",
       "      <th>yearsatcompany</th>\n",
       "      <th>city</th>\n",
       "      <th>state</th>\n",
       "      <th>country</th>\n",
       "    </tr>\n",
       "  </thead>\n",
       "  <tbody>\n",
       "    <tr>\n",
       "      <td>745</td>\n",
       "      <td>2018-06-05 14:06:30</td>\n",
       "      <td>LinkedIn</td>\n",
       "      <td>Senior</td>\n",
       "      <td>Data Scientist</td>\n",
       "      <td>233.0</td>\n",
       "      <td>4.0</td>\n",
       "      <td>0.0</td>\n",
       "      <td>San Francisco</td>\n",
       "      <td>CA</td>\n",
       "      <td>US</td>\n",
       "    </tr>\n",
       "    <tr>\n",
       "      <td>772</td>\n",
       "      <td>2018-06-08 00:29:47</td>\n",
       "      <td>Amazon</td>\n",
       "      <td>L4</td>\n",
       "      <td>Data Scientist</td>\n",
       "      <td>140.0</td>\n",
       "      <td>2.0</td>\n",
       "      <td>2.0</td>\n",
       "      <td>Seattle</td>\n",
       "      <td>WA</td>\n",
       "      <td>US</td>\n",
       "    </tr>\n",
       "    <tr>\n",
       "      <td>776</td>\n",
       "      <td>2018-06-08 09:49:25</td>\n",
       "      <td>Microsoft</td>\n",
       "      <td>64</td>\n",
       "      <td>Data Scientist</td>\n",
       "      <td>218.0</td>\n",
       "      <td>11.0</td>\n",
       "      <td>11.0</td>\n",
       "      <td>Seattle</td>\n",
       "      <td>WA</td>\n",
       "      <td>US</td>\n",
       "    </tr>\n",
       "    <tr>\n",
       "      <td>782</td>\n",
       "      <td>2018-06-08 17:55:09</td>\n",
       "      <td>ebay</td>\n",
       "      <td>26</td>\n",
       "      <td>Data Scientist</td>\n",
       "      <td>180.0</td>\n",
       "      <td>10.0</td>\n",
       "      <td>5.0</td>\n",
       "      <td>San Jose</td>\n",
       "      <td>CA</td>\n",
       "      <td>US</td>\n",
       "    </tr>\n",
       "    <tr>\n",
       "      <td>796</td>\n",
       "      <td>2018-06-10 19:39:35</td>\n",
       "      <td>Twitter</td>\n",
       "      <td>Staff</td>\n",
       "      <td>Data Scientist</td>\n",
       "      <td>500.0</td>\n",
       "      <td>4.0</td>\n",
       "      <td>4.0</td>\n",
       "      <td>San Francisco</td>\n",
       "      <td>CA</td>\n",
       "      <td>US</td>\n",
       "    </tr>\n",
       "    <tr>\n",
       "      <td>...</td>\n",
       "      <td>...</td>\n",
       "      <td>...</td>\n",
       "      <td>...</td>\n",
       "      <td>...</td>\n",
       "      <td>...</td>\n",
       "      <td>...</td>\n",
       "      <td>...</td>\n",
       "      <td>...</td>\n",
       "      <td>...</td>\n",
       "      <td>...</td>\n",
       "    </tr>\n",
       "    <tr>\n",
       "      <td>62569</td>\n",
       "      <td>2021-08-16 16:17:19</td>\n",
       "      <td>IBM</td>\n",
       "      <td>L5</td>\n",
       "      <td>Data Scientist</td>\n",
       "      <td>145.0</td>\n",
       "      <td>6.0</td>\n",
       "      <td>5.0</td>\n",
       "      <td>New City</td>\n",
       "      <td>NY</td>\n",
       "      <td>US</td>\n",
       "    </tr>\n",
       "    <tr>\n",
       "      <td>62578</td>\n",
       "      <td>2021-08-16 17:08:58</td>\n",
       "      <td>Booz Allen Hamilton</td>\n",
       "      <td>Senior Consultant</td>\n",
       "      <td>Data Scientist</td>\n",
       "      <td>110.0</td>\n",
       "      <td>0.0</td>\n",
       "      <td>0.0</td>\n",
       "      <td>West McLean</td>\n",
       "      <td>VA</td>\n",
       "      <td>US</td>\n",
       "    </tr>\n",
       "    <tr>\n",
       "      <td>62600</td>\n",
       "      <td>2021-08-16 21:02:37</td>\n",
       "      <td>Xandr</td>\n",
       "      <td>L1</td>\n",
       "      <td>Data Scientist</td>\n",
       "      <td>120.0</td>\n",
       "      <td>1.0</td>\n",
       "      <td>0.0</td>\n",
       "      <td>Portland</td>\n",
       "      <td>OR</td>\n",
       "      <td>US</td>\n",
       "    </tr>\n",
       "    <tr>\n",
       "      <td>62610</td>\n",
       "      <td>2021-08-16 22:19:48</td>\n",
       "      <td>Facebook</td>\n",
       "      <td>L4</td>\n",
       "      <td>Data Scientist</td>\n",
       "      <td>233.0</td>\n",
       "      <td>2.0</td>\n",
       "      <td>2.0</td>\n",
       "      <td>Menlo Park</td>\n",
       "      <td>CA</td>\n",
       "      <td>US</td>\n",
       "    </tr>\n",
       "    <tr>\n",
       "      <td>62636</td>\n",
       "      <td>2021-08-17 07:55:47</td>\n",
       "      <td>AT&amp;T</td>\n",
       "      <td>Principal</td>\n",
       "      <td>Data Scientist</td>\n",
       "      <td>175.0</td>\n",
       "      <td>9.0</td>\n",
       "      <td>7.0</td>\n",
       "      <td>Atlanta</td>\n",
       "      <td>GA</td>\n",
       "      <td>US</td>\n",
       "    </tr>\n",
       "  </tbody>\n",
       "</table>\n",
       "<p>2227 rows × 10 columns</p>\n",
       "</div>"
      ],
      "text/plain": [
       "                timestamp              company              level  \\\n",
       "745   2018-06-05 14:06:30             LinkedIn             Senior   \n",
       "772   2018-06-08 00:29:47               Amazon                 L4   \n",
       "776   2018-06-08 09:49:25            Microsoft                 64   \n",
       "782   2018-06-08 17:55:09                 ebay                 26   \n",
       "796   2018-06-10 19:39:35              Twitter              Staff   \n",
       "...                   ...                  ...                ...   \n",
       "62569 2021-08-16 16:17:19                  IBM                 L5   \n",
       "62578 2021-08-16 17:08:58  Booz Allen Hamilton  Senior Consultant   \n",
       "62600 2021-08-16 21:02:37                Xandr                 L1   \n",
       "62610 2021-08-16 22:19:48             Facebook                 L4   \n",
       "62636 2021-08-17 07:55:47                 AT&T          Principal   \n",
       "\n",
       "                title  totalyearlycompensation  yearsofexperience  \\\n",
       "745    Data Scientist                    233.0                4.0   \n",
       "772    Data Scientist                    140.0                2.0   \n",
       "776    Data Scientist                    218.0               11.0   \n",
       "782    Data Scientist                    180.0               10.0   \n",
       "796    Data Scientist                    500.0                4.0   \n",
       "...               ...                      ...                ...   \n",
       "62569  Data Scientist                    145.0                6.0   \n",
       "62578  Data Scientist                    110.0                0.0   \n",
       "62600  Data Scientist                    120.0                1.0   \n",
       "62610  Data Scientist                    233.0                2.0   \n",
       "62636  Data Scientist                    175.0                9.0   \n",
       "\n",
       "       yearsatcompany           city state country  \n",
       "745               0.0  San Francisco    CA      US  \n",
       "772               2.0        Seattle    WA      US  \n",
       "776              11.0        Seattle    WA      US  \n",
       "782               5.0       San Jose    CA      US  \n",
       "796               4.0  San Francisco    CA      US  \n",
       "...               ...            ...   ...     ...  \n",
       "62569             5.0       New City    NY      US  \n",
       "62578             0.0    West McLean    VA      US  \n",
       "62600             0.0       Portland    OR      US  \n",
       "62610             2.0     Menlo Park    CA      US  \n",
       "62636             7.0        Atlanta    GA      US  \n",
       "\n",
       "[2227 rows x 10 columns]"
      ]
     },
     "execution_count": 2,
     "metadata": {},
     "output_type": "execute_result"
    }
   ],
   "source": [
    "us_df\n"
   ]
  },
  {
   "cell_type": "code",
   "execution_count": 3,
   "metadata": {},
   "outputs": [
    {
     "data": {
      "text/plain": [
       "San Francisco       373\n",
       "Seattle             311\n",
       "New York            245\n",
       "Redmond             106\n",
       "Menlo Park           94\n",
       "                   ... \n",
       "Emeryville            1\n",
       "Campbell              1\n",
       "Plymouth Meeting      1\n",
       "Fort Worth            1\n",
       "Watertown             1\n",
       "Name: city, Length: 160, dtype: int64"
      ]
     },
     "execution_count": 3,
     "metadata": {},
     "output_type": "execute_result"
    }
   ],
   "source": [
    "us_df['city'].value_counts()"
   ]
  },
  {
   "cell_type": "code",
   "execution_count": 4,
   "metadata": {},
   "outputs": [
    {
     "data": {
      "text/html": [
       "<div>\n",
       "<style scoped>\n",
       "    .dataframe tbody tr th:only-of-type {\n",
       "        vertical-align: middle;\n",
       "    }\n",
       "\n",
       "    .dataframe tbody tr th {\n",
       "        vertical-align: top;\n",
       "    }\n",
       "\n",
       "    .dataframe thead th {\n",
       "        text-align: right;\n",
       "    }\n",
       "</style>\n",
       "<table border=\"1\" class=\"dataframe\">\n",
       "  <thead>\n",
       "    <tr style=\"text-align: right;\">\n",
       "      <th></th>\n",
       "      <th>city</th>\n",
       "      <th>state</th>\n",
       "    </tr>\n",
       "  </thead>\n",
       "  <tbody>\n",
       "    <tr>\n",
       "      <td>745</td>\n",
       "      <td>San Francisco</td>\n",
       "      <td>CA</td>\n",
       "    </tr>\n",
       "    <tr>\n",
       "      <td>772</td>\n",
       "      <td>Seattle</td>\n",
       "      <td>WA</td>\n",
       "    </tr>\n",
       "    <tr>\n",
       "      <td>776</td>\n",
       "      <td>Seattle</td>\n",
       "      <td>WA</td>\n",
       "    </tr>\n",
       "    <tr>\n",
       "      <td>782</td>\n",
       "      <td>San Jose</td>\n",
       "      <td>CA</td>\n",
       "    </tr>\n",
       "    <tr>\n",
       "      <td>796</td>\n",
       "      <td>San Francisco</td>\n",
       "      <td>CA</td>\n",
       "    </tr>\n",
       "    <tr>\n",
       "      <td>...</td>\n",
       "      <td>...</td>\n",
       "      <td>...</td>\n",
       "    </tr>\n",
       "    <tr>\n",
       "      <td>62569</td>\n",
       "      <td>New City</td>\n",
       "      <td>NY</td>\n",
       "    </tr>\n",
       "    <tr>\n",
       "      <td>62578</td>\n",
       "      <td>West McLean</td>\n",
       "      <td>VA</td>\n",
       "    </tr>\n",
       "    <tr>\n",
       "      <td>62600</td>\n",
       "      <td>Portland</td>\n",
       "      <td>OR</td>\n",
       "    </tr>\n",
       "    <tr>\n",
       "      <td>62610</td>\n",
       "      <td>Menlo Park</td>\n",
       "      <td>CA</td>\n",
       "    </tr>\n",
       "    <tr>\n",
       "      <td>62636</td>\n",
       "      <td>Atlanta</td>\n",
       "      <td>GA</td>\n",
       "    </tr>\n",
       "  </tbody>\n",
       "</table>\n",
       "<p>2227 rows × 2 columns</p>\n",
       "</div>"
      ],
      "text/plain": [
       "                city state\n",
       "745    San Francisco    CA\n",
       "772          Seattle    WA\n",
       "776          Seattle    WA\n",
       "782         San Jose    CA\n",
       "796    San Francisco    CA\n",
       "...              ...   ...\n",
       "62569       New City    NY\n",
       "62578    West McLean    VA\n",
       "62600       Portland    OR\n",
       "62610     Menlo Park    CA\n",
       "62636        Atlanta    GA\n",
       "\n",
       "[2227 rows x 2 columns]"
      ]
     },
     "execution_count": 4,
     "metadata": {},
     "output_type": "execute_result"
    }
   ],
   "source": [
    "origins_df=us_df[['city', 'state']]\n",
    "origins_df"
   ]
  },
  {
   "cell_type": "code",
   "execution_count": 5,
   "metadata": {},
   "outputs": [
    {
     "name": "stderr",
     "output_type": "stream",
     "text": [
      "/Users/iSabyasachi/opt/anaconda3/lib/python3.7/site-packages/ipykernel_launcher.py:1: SettingWithCopyWarning: \n",
      "A value is trying to be set on a copy of a slice from a DataFrame.\n",
      "Try using .loc[row_indexer,col_indexer] = value instead\n",
      "\n",
      "See the caveats in the documentation: http://pandas.pydata.org/pandas-docs/stable/user_guide/indexing.html#returning-a-view-versus-a-copy\n",
      "  \"\"\"Entry point for launching an IPython kernel.\n"
     ]
    }
   ],
   "source": [
    "origins_df['city'] = origins_df.city.apply(lambda x: x.strip())"
   ]
  },
  {
   "cell_type": "code",
   "execution_count": 6,
   "metadata": {},
   "outputs": [
    {
     "data": {
      "text/plain": [
       "160"
      ]
     },
     "execution_count": 6,
     "metadata": {},
     "output_type": "execute_result"
    }
   ],
   "source": [
    "clean_cities = origins_df.city.unique()\n",
    "len(clean_cities)"
   ]
  },
  {
   "cell_type": "code",
   "execution_count": 7,
   "metadata": {},
   "outputs": [
    {
     "ename": "NameError",
     "evalue": "name 'origins' is not defined",
     "output_type": "error",
     "traceback": [
      "\u001b[0;31m---------------------------------------------------------------------------\u001b[0m",
      "\u001b[0;31mNameError\u001b[0m                                 Traceback (most recent call last)",
      "\u001b[0;32m<ipython-input-7-78388ed5eb71>\u001b[0m in \u001b[0;36m<module>\u001b[0;34m\u001b[0m\n\u001b[0;32m----> 1\u001b[0;31m \u001b[0mlen\u001b[0m\u001b[0;34m(\u001b[0m\u001b[0;34m[\u001b[0m\u001b[0mgroup\u001b[0m \u001b[0;32mfor\u001b[0m \u001b[0midx\u001b[0m\u001b[0;34m,\u001b[0m\u001b[0mgroup\u001b[0m \u001b[0;32min\u001b[0m \u001b[0morigins\u001b[0m\u001b[0;34m]\u001b[0m\u001b[0;34m)\u001b[0m\u001b[0;34m\u001b[0m\u001b[0;34m\u001b[0m\u001b[0m\n\u001b[0m",
      "\u001b[0;31mNameError\u001b[0m: name 'origins' is not defined"
     ]
    }
   ],
   "source": [
    "len([group for idx,group in origins])"
   ]
  },
  {
   "cell_type": "code",
   "execution_count": 8,
   "metadata": {},
   "outputs": [
    {
     "ename": "NameError",
     "evalue": "name 'origins' is not defined",
     "output_type": "error",
     "traceback": [
      "\u001b[0;31m---------------------------------------------------------------------------\u001b[0m",
      "\u001b[0;31mNameError\u001b[0m                                 Traceback (most recent call last)",
      "\u001b[0;32m<ipython-input-8-8ce59a7673d9>\u001b[0m in \u001b[0;36m<module>\u001b[0;34m\u001b[0m\n\u001b[0;32m----> 1\u001b[0;31m \u001b[0;32mfor\u001b[0m \u001b[0midx\u001b[0m\u001b[0;34m,\u001b[0m \u001b[0mgroup\u001b[0m \u001b[0;32min\u001b[0m \u001b[0morigins\u001b[0m\u001b[0;34m:\u001b[0m\u001b[0;34m\u001b[0m\u001b[0;34m\u001b[0m\u001b[0m\n\u001b[0m\u001b[1;32m      2\u001b[0m     \u001b[0;32mif\u001b[0m \u001b[0mgroup\u001b[0m\u001b[0;34m.\u001b[0m\u001b[0mcity\u001b[0m\u001b[0;34m.\u001b[0m\u001b[0miloc\u001b[0m\u001b[0;34m[\u001b[0m\u001b[0;36m0\u001b[0m\u001b[0;34m]\u001b[0m \u001b[0;34m==\u001b[0m \u001b[0;34m'Seattle'\u001b[0m\u001b[0;34m:\u001b[0m\u001b[0;34m\u001b[0m\u001b[0;34m\u001b[0m\u001b[0m\n\u001b[1;32m      3\u001b[0m         \u001b[0mprint\u001b[0m\u001b[0;34m(\u001b[0m\u001b[0mgroup\u001b[0m\u001b[0;34m)\u001b[0m\u001b[0;34m\u001b[0m\u001b[0;34m\u001b[0m\u001b[0m\n\u001b[1;32m      4\u001b[0m         \u001b[0mprint\u001b[0m\u001b[0;34m(\u001b[0m\u001b[0;34m'___________'\u001b[0m\u001b[0;34m)\u001b[0m\u001b[0;34m\u001b[0m\u001b[0;34m\u001b[0m\u001b[0m\n",
      "\u001b[0;31mNameError\u001b[0m: name 'origins' is not defined"
     ]
    }
   ],
   "source": [
    "for idx, group in origins:\n",
    "    if group.city.iloc[0] == 'Seattle':\n",
    "        print(group)\n",
    "        print('___________')"
   ]
  },
  {
   "cell_type": "code",
   "execution_count": 9,
   "metadata": {},
   "outputs": [],
   "source": [
    "origins=origins_df.groupby('city')"
   ]
  },
  {
   "cell_type": "code",
   "execution_count": 10,
   "metadata": {},
   "outputs": [
    {
     "name": "stderr",
     "output_type": "stream",
     "text": [
      "/Users/iSabyasachi/opt/anaconda3/lib/python3.7/site-packages/ipykernel_launcher.py:1: SettingWithCopyWarning: \n",
      "A value is trying to be set on a copy of a slice from a DataFrame.\n",
      "Try using .loc[row_indexer,col_indexer] = value instead\n",
      "\n",
      "See the caveats in the documentation: http://pandas.pydata.org/pandas-docs/stable/user_guide/indexing.html#returning-a-view-versus-a-copy\n",
      "  \"\"\"Entry point for launching an IPython kernel.\n"
     ]
    }
   ],
   "source": [
    "origins_df['city_state'] = origins_df.apply(lambda row: row.city + '%20C' + row.state, axis=1)\n",
    "new_origins = origins_df.groupby('city_state')"
   ]
  },
  {
   "cell_type": "code",
   "execution_count": 11,
   "metadata": {},
   "outputs": [],
   "source": [
    "city_states=origins_df['city_state'].unique()"
   ]
  },
  {
   "cell_type": "code",
   "execution_count": 12,
   "metadata": {},
   "outputs": [
    {
     "data": {
      "text/plain": [
       "166"
      ]
     },
     "execution_count": 12,
     "metadata": {},
     "output_type": "execute_result"
    }
   ],
   "source": [
    "len(city_states)"
   ]
  },
  {
   "cell_type": "code",
   "execution_count": 14,
   "metadata": {},
   "outputs": [
    {
     "name": "stdout",
     "output_type": "stream",
     "text": [
      "4680488\n",
      "4606061\n",
      "4733129\n",
      "2566387\n",
      "4586918\n",
      "4741100\n",
      "4731642\n",
      "10007\n",
      "4727625\n",
      "38727\n",
      "4470171\n",
      "381733\n",
      "340801\n",
      "4523564\n",
      "4584771\n",
      "4733749\n",
      "4747337\n",
      "4732087\n",
      "1938245\n",
      "2809697\n",
      "4519772\n",
      "1015931\n",
      "2496062\n",
      "3215226\n",
      "815229\n",
      "1401271\n",
      "665996\n",
      "2085043\n",
      "4489857\n",
      "4493846\n",
      "1276254\n",
      "2871490\n",
      "4698504\n",
      "4732030\n",
      "2497842\n",
      "866643\n",
      "2867951\n",
      "4663595\n",
      "4665078\n",
      "810167\n",
      "2889247\n",
      "549822\n",
      "611951\n",
      "796298\n",
      "395724\n",
      "202657\n",
      "2626661\n",
      "4719849\n",
      "2865975\n",
      "4653571\n",
      "1033105\n",
      "3491643\n",
      "4709830\n",
      "3883807\n",
      "4693331\n",
      "1929914\n",
      "191140\n",
      "Tel Aviv%20CIsrael\n",
      "4718202\n",
      "11544\n",
      "182242\n",
      "4708972\n",
      "2546600\n",
      "1825894\n",
      "587930\n",
      "1971552\n",
      "991461\n",
      "75904\n",
      "1544995\n",
      "3999966\n",
      "1926081\n",
      "789435\n",
      "4689019\n",
      "375887\n",
      "4674587\n",
      "1914459\n",
      "4712832\n",
      "2780473\n",
      "162438\n",
      "2537781\n",
      "57517\n",
      "3881496\n",
      "4696866\n",
      "396380\n",
      "4666239\n",
      "4796489\n",
      "1317261\n",
      "183239\n",
      "1621014\n",
      "378304\n",
      "2076857\n",
      "1737306\n",
      "3953203\n",
      "1785882\n",
      "2925076\n",
      "664942\n",
      "749359\n",
      "4735874\n",
      "4676608\n",
      "973753\n",
      "3975893\n",
      "1727766\n",
      "76782\n",
      "63943\n",
      "328199\n",
      "1432926\n",
      "1925966\n",
      "113590\n",
      "312385\n",
      "1147317\n",
      "2935879\n",
      "4542341\n",
      "1192694\n",
      "1446177\n",
      "1789851\n",
      "3527347\n",
      "328125\n",
      "4680488\n",
      "408933\n",
      "165349\n",
      "4685661\n",
      "984761\n",
      "1314248\n",
      "64772\n",
      "1229841\n",
      "2862155\n",
      "4491238\n",
      "1723480\n",
      "1377439\n",
      "796984\n",
      "4062808\n",
      "1480132\n",
      "416869\n",
      "1833749\n",
      "4461066\n",
      "33582\n",
      "1554926\n",
      "319312\n",
      "388032\n",
      "286106\n",
      "2515132\n",
      "1028143\n",
      "1378423\n",
      "1261273\n",
      "17252\n",
      "2341311\n",
      "4504278\n",
      "4668036\n",
      "398693\n",
      "2172616\n",
      "1776367\n",
      "4501073\n",
      "2004207\n",
      "1362313\n",
      "177344\n",
      "23230\n",
      "1768994\n",
      "2054146\n",
      "2248876\n",
      "1541170\n",
      "4209646\n",
      "3419771\n",
      "342073\n",
      "76874\n",
      "51652\n",
      "382850\n"
     ]
    }
   ],
   "source": [
    "from api_keys import g_key\n",
    "import gmaps\n",
    "import requests\n",
    "base_url = \"https://maps.googleapis.com/maps/api/distancematrix/json?\"\n",
    "distances=[]\n",
    "for i in range(len(city_states)):\n",
    "    origin_city=city_states[i]\n",
    "\n",
    "    destination_city=\"New York%20CNY\"\n",
    "    \n",
    "    \n",
    "    try:\n",
    "    \n",
    "        url=base_url+\"origins=\"+origin_city+\"&destinations=\"+destination_city+\"%20C\"+\"&key=\"+g_key\n",
    "\n",
    "        payload={}\n",
    "        headers = {}\n",
    "\n",
    "        response = requests.request(\"GET\", url, headers=headers, data=payload)\n",
    "\n",
    "        x=response.json()\n",
    "\n",
    "        y=x[\"rows\"][0][\"elements\"][0][\"distance\"][\"value\"]\n",
    "        print(y)\n",
    "\n",
    "        distances.append(y)\n",
    "    \n",
    "    except:\n",
    "        distances.append('None')\n",
    "        print(city_states[i])\n",
    "\n",
    "    \n",
    "    \n"
   ]
  },
  {
   "cell_type": "code",
   "execution_count": 15,
   "metadata": {},
   "outputs": [
    {
     "data": {
      "text/plain": [
       "166"
      ]
     },
     "execution_count": 15,
     "metadata": {},
     "output_type": "execute_result"
    }
   ],
   "source": [
    "len(distances)"
   ]
  },
  {
   "cell_type": "code",
   "execution_count": 16,
   "metadata": {},
   "outputs": [],
   "source": [
    "city_distance=pd.DataFrame(data={\n",
    "    \"city\": city_states,\n",
    "    \"distance from NY\": distances\n",
    "})"
   ]
  },
  {
   "cell_type": "code",
   "execution_count": 17,
   "metadata": {},
   "outputs": [],
   "source": [
    "city_distance.to_csv(\"distances.csv\")"
   ]
  },
  {
   "cell_type": "code",
   "execution_count": null,
   "metadata": {},
   "outputs": [],
   "source": [
    "len([group for idx,group in new_origins])"
   ]
  },
  {
   "cell_type": "code",
   "execution_count": null,
   "metadata": {},
   "outputs": [],
   "source": [
    "len(cities)"
   ]
  },
  {
   "cell_type": "code",
   "execution_count": null,
   "metadata": {},
   "outputs": [],
   "source": [
    "x=origins_df['city'].value_counts()\n",
    "type(x)"
   ]
  },
  {
   "cell_type": "code",
   "execution_count": null,
   "metadata": {},
   "outputs": [],
   "source": [
    "from api_keys import g_key\n",
    "import gmaps\n",
    "import requests"
   ]
  },
  {
   "cell_type": "code",
   "execution_count": null,
   "metadata": {},
   "outputs": [],
   "source": [
    "base_url = \"https://maps.googleapis.com/maps/api/distancematrix/json?\""
   ]
  },
  {
   "cell_type": "code",
   "execution_count": null,
   "metadata": {},
   "outputs": [],
   "source": [
    "origin_city=\"Chicago\"\n",
    "origin_state= \"IL\"\n",
    "\n",
    "destination_city=\"New York\"\n",
    "destination_state=\"NY\"\n",
    "\n",
    "url=base_url+\"origins=\"+origin_city+\"%20C\"+origin_state+\"&destinations=\"+destination_city+\"%20C\"+destination_state+\"&key=\"+g_key"
   ]
  },
  {
   "cell_type": "code",
   "execution_count": null,
   "metadata": {},
   "outputs": [],
   "source": [
    "url"
   ]
  },
  {
   "cell_type": "code",
   "execution_count": null,
   "metadata": {},
   "outputs": [],
   "source": [
    "payload={}\n",
    "headers = {}\n",
    "\n",
    "response = requests.request(\"GET\", url, headers=headers, data=payload)\n",
    "\n",
    "print(response.text)\n"
   ]
  },
  {
   "cell_type": "code",
   "execution_count": null,
   "metadata": {},
   "outputs": [],
   "source": [
    "x=response.json()"
   ]
  },
  {
   "cell_type": "code",
   "execution_count": null,
   "metadata": {},
   "outputs": [],
   "source": [
    "x[\"rows\"][0][\"elements\"][0][\"distance\"][\"value\"]"
   ]
  },
  {
   "cell_type": "code",
   "execution_count": null,
   "metadata": {},
   "outputs": [],
   "source": []
  }
 ],
 "metadata": {
  "kernelspec": {
   "display_name": "Python 3",
   "language": "python",
   "name": "python3"
  },
  "language_info": {
   "codemirror_mode": {
    "name": "ipython",
    "version": 3
   },
   "file_extension": ".py",
   "mimetype": "text/x-python",
   "name": "python",
   "nbconvert_exporter": "python",
   "pygments_lexer": "ipython3",
   "version": "3.7.4"
  }
 },
 "nbformat": 4,
 "nbformat_minor": 2
}

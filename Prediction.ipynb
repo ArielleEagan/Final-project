{
 "cells": [
  {
   "cell_type": "code",
   "execution_count": 6,
   "id": "879a747c",
   "metadata": {},
   "outputs": [],
   "source": [
    "#Import Dependencies\n",
    "from pickle import load\n",
    "import pandas as pd\n",
    "import numpy as np\n",
    "from api_keys import g_key\n",
    "import gmaps\n",
    "import requests\n",
    "import warnings\n",
    "warnings.filterwarnings('ignore')"
   ]
  },
  {
   "cell_type": "code",
   "execution_count": 7,
   "id": "19bbe1f6",
   "metadata": {},
   "outputs": [],
   "source": [
    "model = load(open('model_artifacts/model.pkl', 'rb'))\n",
    "scalar = load(open('model_artifacts/scalar.pkl', 'rb'))\n",
    "\n",
    "bonus_model = load(open('model_artifacts/bonus_model.pkl', 'rb'))\n",
    "bonus_scalar = load(open('model_artifacts/bonus_scalar.pkl', 'rb'))\n",
    "\n",
    "equity_model = load(open('model_artifacts/equity_model.pkl', 'rb'))\n",
    "equity_scalar = load(open('model_artifacts/equity_scalar.pkl', 'rb'))\n"
   ]
  },
  {
   "cell_type": "code",
   "execution_count": 8,
   "id": "486fddb9",
   "metadata": {},
   "outputs": [],
   "source": [
    "def predict(yac, exp, level, d1, d2, d3):\n",
    "    X_be=np.array([[level, exp, yac, d1, d2, d3]])\n",
    "    X_be=X_be.reshape(1, -1)\n",
    "    bonus_scaled=bonus_scalar.transform(X_be)\n",
    "    bonus=bonus_model.predict(bonus_scaled)\n",
    "    \n",
    "    equity_scaled=equity_scalar.transform(X_be)\n",
    "    equity=equity_model.predict(equity_scaled)\n",
    "    \n",
    "    X=np.array([[level, exp, yac, d1, bonus, equity, d2, d3]])\n",
    "    X=X.reshape(1, -1)\n",
    "    scaled=scalar.transform(X)\n",
    "    salary=model.predict(scaled)\n",
    "    \n",
    "    Y=[bonus, equity, salary]\n",
    "    return Y\n",
    " "
   ]
  },
  {
   "cell_type": "code",
   "execution_count": 9,
   "id": "26a441fd",
   "metadata": {},
   "outputs": [],
   "source": [
    "def distances(origin_city, destination_cities, g_key):\n",
    "    base_url = \"https://maps.googleapis.com/maps/api/distancematrix/json?\"\n",
    "    distances=[]\n",
    "\n",
    "    \n",
    "    for i in range(len(destination_cities)):\n",
    "        \n",
    "        url=base_url+\"origins=\"+origin_city+\"&destinations=\"+destination_cities[i]+\"%20C\"+\"&key=\"+g_key\n",
    "\n",
    "        payload={}\n",
    "        headers = {}\n",
    "        response = requests.request(\"GET\", url, headers=headers, data=payload)\n",
    "\n",
    "        x=response.json()\n",
    "\n",
    "        y=x[\"rows\"][0][\"elements\"][0][\"distance\"][\"value\"]\n",
    "\n",
    "        distances.append(y)\n",
    "        \n",
    "    return(distances)\n"
   ]
  },
  {
   "cell_type": "code",
   "execution_count": 10,
   "id": "0b5f1b01",
   "metadata": {},
   "outputs": [
    {
     "name": "stdout",
     "output_type": "stream",
     "text": [
      "Enter years at company(in years): 0\n",
      "Enter years of experience(in years): 13\n",
      "Enter company location city: Carmel\n",
      "Enter company location state abbreviation: IN\n",
      "Enter your level. Eg. 10 for VP, 1 for Junior for Associate Data Scientist\n",
      "Enter level: 8\n",
      "Your expected total yearly compensation is: $[263.8626085]\n",
      "Your expected bonus is: $[26.5509451]\n",
      "Your expected equity is: $[44.7881343]\n"
     ]
    }
   ],
   "source": [
    "yac=input(\"Enter years at company(in years): \")\n",
    "exp=input(\"Enter years of experience(in years): \")\n",
    "city=input(\"Enter company location city: \")\n",
    "state=input(\"Enter company location state abbreviation: \")\n",
    "origin_city=city+\"%20C\"+state\n",
    "destination_cities=[\"New York%20CNY\",\"San Francisco%20CCA\", \"Seattle%20CWA\"]\n",
    "\n",
    "D_y=distances(origin_city, destination_cities, g_key)\n",
    "\n",
    "print(\"Enter your level. Eg. 10 for VP, 1 for Junior for Associate Data Scientist\")\n",
    "level=input(\"Enter level: \")\n",
    "\n",
    "result=predict(yac, exp, level, D_y[0], D_y[1], D_y[2])\n",
    "bonus=result[0]\n",
    "equity=result[1]\n",
    "salary=result[2]\n",
    "\n",
    "print(f\"Your expected total yearly compensation is: ${salary}\")\n",
    "print(f\"Your expected bonus is: ${bonus}\")\n",
    "print(f\"Your expected equity is: ${equity}\")"
   ]
  },
  {
   "cell_type": "code",
   "execution_count": null,
   "id": "30bbecb0",
   "metadata": {},
   "outputs": [],
   "source": [
    "0, 13, Carmel, IN, 8"
   ]
  }
 ],
 "metadata": {
  "kernelspec": {
   "display_name": "Python 3 (ipykernel)",
   "language": "python",
   "name": "python3"
  },
  "language_info": {
   "codemirror_mode": {
    "name": "ipython",
    "version": 3
   },
   "file_extension": ".py",
   "mimetype": "text/x-python",
   "name": "python",
   "nbconvert_exporter": "python",
   "pygments_lexer": "ipython3",
   "version": "3.8.8"
  }
 },
 "nbformat": 4,
 "nbformat_minor": 5
}

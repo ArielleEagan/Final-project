{
 "cells": [
  {
   "cell_type": "code",
   "execution_count": 2,
   "metadata": {},
   "outputs": [
    {
     "data": {
      "text/html": [
       "<div>\n",
       "<style scoped>\n",
       "    .dataframe tbody tr th:only-of-type {\n",
       "        vertical-align: middle;\n",
       "    }\n",
       "\n",
       "    .dataframe tbody tr th {\n",
       "        vertical-align: top;\n",
       "    }\n",
       "\n",
       "    .dataframe thead th {\n",
       "        text-align: right;\n",
       "    }\n",
       "</style>\n",
       "<table border=\"1\" class=\"dataframe\">\n",
       "  <thead>\n",
       "    <tr style=\"text-align: right;\">\n",
       "      <th></th>\n",
       "      <th>Unnamed: 0</th>\n",
       "      <th>timestamp</th>\n",
       "      <th>company</th>\n",
       "      <th>level</th>\n",
       "      <th>title</th>\n",
       "      <th>totalyearlycompensation</th>\n",
       "      <th>yearsofexperience</th>\n",
       "      <th>yearsatcompany</th>\n",
       "      <th>stockgrantvalue</th>\n",
       "      <th>bonus</th>\n",
       "      <th>city</th>\n",
       "      <th>state</th>\n",
       "      <th>country</th>\n",
       "      <th>city_state</th>\n",
       "      <th>distance_NY</th>\n",
       "      <th>distance_SF</th>\n",
       "      <th>distance_seattle</th>\n",
       "    </tr>\n",
       "  </thead>\n",
       "  <tbody>\n",
       "    <tr>\n",
       "      <td>0</td>\n",
       "      <td>745</td>\n",
       "      <td>2018-06-05 14:06:30</td>\n",
       "      <td>LinkedIn</td>\n",
       "      <td>5.0</td>\n",
       "      <td>Data Scientist</td>\n",
       "      <td>233.0</td>\n",
       "      <td>4.0</td>\n",
       "      <td>0.0</td>\n",
       "      <td>220.0</td>\n",
       "      <td>10.0</td>\n",
       "      <td>San Francisco</td>\n",
       "      <td>CA</td>\n",
       "      <td>US</td>\n",
       "      <td>San Francisco%20CCA</td>\n",
       "      <td>4680488</td>\n",
       "      <td>110</td>\n",
       "      <td>1297072</td>\n",
       "    </tr>\n",
       "    <tr>\n",
       "      <td>1</td>\n",
       "      <td>776</td>\n",
       "      <td>2018-06-08 09:49:25</td>\n",
       "      <td>Microsoft</td>\n",
       "      <td>64.0</td>\n",
       "      <td>Data Scientist</td>\n",
       "      <td>218.0</td>\n",
       "      <td>11.0</td>\n",
       "      <td>11.0</td>\n",
       "      <td>28.0</td>\n",
       "      <td>23.0</td>\n",
       "      <td>Seattle</td>\n",
       "      <td>WA</td>\n",
       "      <td>US</td>\n",
       "      <td>Seattle%20CWA</td>\n",
       "      <td>4606061</td>\n",
       "      <td>1296231</td>\n",
       "      <td>798</td>\n",
       "    </tr>\n",
       "    <tr>\n",
       "      <td>2</td>\n",
       "      <td>796</td>\n",
       "      <td>2018-06-10 19:39:35</td>\n",
       "      <td>Twitter</td>\n",
       "      <td>4.0</td>\n",
       "      <td>Data Scientist</td>\n",
       "      <td>500.0</td>\n",
       "      <td>4.0</td>\n",
       "      <td>4.0</td>\n",
       "      <td>280.0</td>\n",
       "      <td>20.0</td>\n",
       "      <td>San Francisco</td>\n",
       "      <td>CA</td>\n",
       "      <td>US</td>\n",
       "      <td>San Francisco%20CCA</td>\n",
       "      <td>4680488</td>\n",
       "      <td>110</td>\n",
       "      <td>1297072</td>\n",
       "    </tr>\n",
       "    <tr>\n",
       "      <td>3</td>\n",
       "      <td>822</td>\n",
       "      <td>2018-06-12 20:54:06</td>\n",
       "      <td>Google</td>\n",
       "      <td>6.0</td>\n",
       "      <td>Data Scientist</td>\n",
       "      <td>685.0</td>\n",
       "      <td>22.0</td>\n",
       "      <td>2.0</td>\n",
       "      <td>296000.0</td>\n",
       "      <td>55000.0</td>\n",
       "      <td>Kirkland</td>\n",
       "      <td>WA</td>\n",
       "      <td>US</td>\n",
       "      <td>Kirkland%20CWA</td>\n",
       "      <td>2566387</td>\n",
       "      <td>2714350</td>\n",
       "      <td>4479753</td>\n",
       "    </tr>\n",
       "    <tr>\n",
       "      <td>4</td>\n",
       "      <td>858</td>\n",
       "      <td>2018-06-17 11:39:38</td>\n",
       "      <td>Facebook</td>\n",
       "      <td>5.0</td>\n",
       "      <td>Data Scientist</td>\n",
       "      <td>370.0</td>\n",
       "      <td>8.0</td>\n",
       "      <td>3.0</td>\n",
       "      <td>140.0</td>\n",
       "      <td>40.0</td>\n",
       "      <td>Seattle</td>\n",
       "      <td>WA</td>\n",
       "      <td>US</td>\n",
       "      <td>Seattle%20CWA</td>\n",
       "      <td>4606061</td>\n",
       "      <td>1296231</td>\n",
       "      <td>798</td>\n",
       "    </tr>\n",
       "  </tbody>\n",
       "</table>\n",
       "</div>"
      ],
      "text/plain": [
       "   Unnamed: 0            timestamp    company  level           title  \\\n",
       "0         745  2018-06-05 14:06:30   LinkedIn    5.0  Data Scientist   \n",
       "1         776  2018-06-08 09:49:25  Microsoft   64.0  Data Scientist   \n",
       "2         796  2018-06-10 19:39:35    Twitter    4.0  Data Scientist   \n",
       "3         822  2018-06-12 20:54:06     Google    6.0  Data Scientist   \n",
       "4         858  2018-06-17 11:39:38   Facebook    5.0  Data Scientist   \n",
       "\n",
       "   totalyearlycompensation  yearsofexperience  yearsatcompany  \\\n",
       "0                    233.0                4.0             0.0   \n",
       "1                    218.0               11.0            11.0   \n",
       "2                    500.0                4.0             4.0   \n",
       "3                    685.0               22.0             2.0   \n",
       "4                    370.0                8.0             3.0   \n",
       "\n",
       "   stockgrantvalue    bonus           city state country           city_state  \\\n",
       "0            220.0     10.0  San Francisco    CA      US  San Francisco%20CCA   \n",
       "1             28.0     23.0        Seattle    WA      US        Seattle%20CWA   \n",
       "2            280.0     20.0  San Francisco    CA      US  San Francisco%20CCA   \n",
       "3         296000.0  55000.0       Kirkland    WA      US       Kirkland%20CWA   \n",
       "4            140.0     40.0        Seattle    WA      US        Seattle%20CWA   \n",
       "\n",
       "   distance_NY  distance_SF  distance_seattle  \n",
       "0      4680488          110           1297072  \n",
       "1      4606061      1296231               798  \n",
       "2      4680488          110           1297072  \n",
       "3      2566387      2714350           4479753  \n",
       "4      4606061      1296231               798  "
      ]
     },
     "execution_count": 2,
     "metadata": {},
     "output_type": "execute_result"
    }
   ],
   "source": [
    "from sklearn.ensemble import RandomForestRegressor\n",
    "from sklearn.model_selection import train_test_split\n",
    "from sklearn.preprocessing import StandardScaler\n",
    "from sklearn.metrics import r2_score\n",
    "import pandas as pd\n",
    "\n",
    "df = pd.read_csv(\"salaries_modified.csv\")\n",
    "# Drop the null columns where all values are null\n",
    "df = df.dropna(axis='columns', how='all')\n",
    "# Drop the null rows\n",
    "df = df.dropna()\n",
    "df.head()"
   ]
  },
  {
   "cell_type": "code",
   "execution_count": 1,
   "metadata": {},
   "outputs": [
    {
     "ename": "NameError",
     "evalue": "name 'df' is not defined",
     "output_type": "error",
     "traceback": [
      "\u001b[0;31m---------------------------------------------------------------------------\u001b[0m",
      "\u001b[0;31mNameError\u001b[0m                                 Traceback (most recent call last)",
      "\u001b[0;32m<ipython-input-1-b3617c34e2f3>\u001b[0m in \u001b[0;36m<module>\u001b[0;34m\u001b[0m\n\u001b[0;32m----> 1\u001b[0;31m \u001b[0;32mfor\u001b[0m \u001b[0midx\u001b[0m\u001b[0;34m,\u001b[0m \u001b[0mrow\u001b[0m \u001b[0;32min\u001b[0m \u001b[0mdf\u001b[0m\u001b[0;34m.\u001b[0m\u001b[0miterrows\u001b[0m\u001b[0;34m(\u001b[0m\u001b[0;34m)\u001b[0m\u001b[0;34m:\u001b[0m\u001b[0;34m\u001b[0m\u001b[0;34m\u001b[0m\u001b[0m\n\u001b[0m\u001b[1;32m      2\u001b[0m     \u001b[0;32mif\u001b[0m \u001b[0mrow\u001b[0m\u001b[0;34m[\u001b[0m\u001b[0;34m'stockgrantvalue'\u001b[0m\u001b[0;34m]\u001b[0m\u001b[0;34m>\u001b[0m\u001b[0;36m0\u001b[0m\u001b[0;34m:\u001b[0m\u001b[0;34m\u001b[0m\u001b[0;34m\u001b[0m\u001b[0m\n\u001b[1;32m      3\u001b[0m         \u001b[0mrow\u001b[0m\u001b[0;34m[\u001b[0m\u001b[0;34m'stockgrantvalue'\u001b[0m\u001b[0;34m]\u001b[0m\u001b[0;34m=\u001b[0m\u001b[0;36m1\u001b[0m\u001b[0;34m\u001b[0m\u001b[0;34m\u001b[0m\u001b[0m\n\u001b[1;32m      4\u001b[0m     \u001b[0;32melse\u001b[0m\u001b[0;34m:\u001b[0m\u001b[0;34m\u001b[0m\u001b[0;34m\u001b[0m\u001b[0m\n\u001b[1;32m      5\u001b[0m         \u001b[0mrow\u001b[0m\u001b[0;34m[\u001b[0m\u001b[0;34m'stockgrantvalue'\u001b[0m\u001b[0;34m]\u001b[0m\u001b[0;34m=\u001b[0m\u001b[0;36m0\u001b[0m\u001b[0;34m\u001b[0m\u001b[0;34m\u001b[0m\u001b[0m\n",
      "\u001b[0;31mNameError\u001b[0m: name 'df' is not defined"
     ]
    }
   ],
   "source": [
    "for idx, row in df.iterrows():\n",
    "    if row['stockgrantvalue']>0:\n",
    "        row['stockgrantvalue']=1\n",
    "    else:\n",
    "        row['stockgrantvalue']=0\n",
    "    \n",
    "    if row['bonus']>0:\n",
    "        row['bonus']=1\n",
    "    else:\n",
    "        row['bonus']=0\n",
    "        "
   ]
  },
  {
   "cell_type": "code",
   "execution_count": 2,
   "metadata": {},
   "outputs": [],
   "source": [
    "def clean_dist(dist):\n",
    "    if dist == 'None':\n",
    "        return None\n",
    "    try:\n",
    "        return int(dist)\n",
    "    except:\n",
    "        return None"
   ]
  },
  {
   "cell_type": "code",
   "execution_count": 3,
   "metadata": {},
   "outputs": [],
   "source": [
    "for col in ['distance_NY', 'distance_SF', 'distance_seattle']:\n",
    "    df[col]=df[col].apply(lambda x: clean_dist(x))"
   ]
  },
  {
   "cell_type": "code",
   "execution_count": 4,
   "metadata": {},
   "outputs": [],
   "source": [
    "for col in ['distance_NY','distance_SF','distance_seattle']:\n",
    "    df = df[df[col].notnull()].copy()\n",
    "    "
   ]
  },
  {
   "cell_type": "code",
   "execution_count": 5,
   "metadata": {},
   "outputs": [],
   "source": [
    "# Set features. This will also be used as your x values.\n",
    "selected_features = df[['level', 'yearsofexperience', 'yearsatcompany', 'stockgrantvalue', 'bonus', 'distance_NY', 'distance_SF', 'distance_seattle']]"
   ]
  },
  {
   "cell_type": "code",
   "execution_count": 6,
   "metadata": {},
   "outputs": [
    {
     "data": {
      "text/plain": [
       "1934"
      ]
     },
     "execution_count": 6,
     "metadata": {},
     "output_type": "execute_result"
    }
   ],
   "source": [
    "import numpy as np\n",
    "inf_df = selected_features.isin([np.inf, -np.inf])\n",
    "len(inf_df)"
   ]
  },
  {
   "cell_type": "code",
   "execution_count": 7,
   "metadata": {},
   "outputs": [],
   "source": [
    "X = selected_features\n",
    "y = df.totalyearlycompensation \n",
    "X_train, X_test, y_train, y_test = train_test_split(X, y,random_state=1, test_size=0.2)"
   ]
  },
  {
   "cell_type": "code",
   "execution_count": 8,
   "metadata": {},
   "outputs": [],
   "source": [
    "regr = RandomForestRegressor(max_depth=2, random_state=0)"
   ]
  },
  {
   "cell_type": "code",
   "execution_count": 9,
   "metadata": {},
   "outputs": [
    {
     "data": {
      "text/plain": [
       "RandomForestRegressor(max_depth=2, random_state=0)"
      ]
     },
     "execution_count": 9,
     "metadata": {},
     "output_type": "execute_result"
    }
   ],
   "source": [
    "regr.fit(X, y)"
   ]
  },
  {
   "cell_type": "code",
   "execution_count": 10,
   "metadata": {},
   "outputs": [],
   "source": [
    "from sklearn.model_selection import RandomizedSearchCV\n",
    "\n",
    "rs = RandomizedSearchCV(regr, param_distributions = {\n",
    "    'max_depth': [2, 80, 90, 500],\n",
    "    'min_samples_leaf' : [1, 5, 10],\n",
    "    },\n",
    "    random_state=42\n",
    ")\n",
    "\n",
    "result = rs.fit(X_train, y_train)"
   ]
  },
  {
   "cell_type": "code",
   "execution_count": 11,
   "metadata": {},
   "outputs": [
    {
     "data": {
      "text/plain": [
       "RandomForestRegressor(max_depth=2, random_state=0)"
      ]
     },
     "execution_count": 11,
     "metadata": {},
     "output_type": "execute_result"
    }
   ],
   "source": [
    "regr.fit(X_train, y_train)"
   ]
  },
  {
   "cell_type": "code",
   "execution_count": 12,
   "metadata": {},
   "outputs": [],
   "source": [
    "sc_X = StandardScaler()\n",
    "X_trainscaled=sc_X.fit_transform(X_train)\n",
    "X_testscaled=sc_X.transform(X_test)"
   ]
  },
  {
   "cell_type": "code",
   "execution_count": 13,
   "metadata": {},
   "outputs": [
    {
     "data": {
      "text/plain": [
       "sklearn.ensemble._forest.RandomForestRegressor"
      ]
     },
     "execution_count": 13,
     "metadata": {},
     "output_type": "execute_result"
    }
   ],
   "source": [
    "RandomForestRegressor"
   ]
  },
  {
   "cell_type": "code",
   "execution_count": 14,
   "metadata": {},
   "outputs": [
    {
     "name": "stdout",
     "output_type": "stream",
     "text": [
      "The Score with  40.26625452529803\n"
     ]
    }
   ],
   "source": [
    "from sklearn.metrics import mean_absolute_error\n",
    "y_pred=regr.predict(X_test)\n",
    "print(\"The Score with \", (mean_absolute_error(y_pred, y_test)))"
   ]
  },
  {
   "cell_type": "code",
   "execution_count": null,
   "metadata": {},
   "outputs": [],
   "source": []
  },
  {
   "cell_type": "code",
   "execution_count": null,
   "metadata": {},
   "outputs": [],
   "source": [
    "# save your model by updating \"your_name\" with your name\n",
    "# and \"your_model\" with your model variable\n",
    "# be sure to turn this in to BCS\n",
    "# if joblib fails to import, try running the command to install in terminal/git-bash\n",
    "import joblib\n",
    "filename = 'your_name.sav'\n",
    "joblib.dump(your_model, filename)"
   ]
  }
 ],
 "metadata": {
  "kernelspec": {
   "display_name": "Python 3",
   "language": "python",
   "name": "python3"
  },
  "language_info": {
   "codemirror_mode": {
    "name": "ipython",
    "version": 3
   },
   "file_extension": ".py",
   "mimetype": "text/x-python",
   "name": "python",
   "nbconvert_exporter": "python",
   "pygments_lexer": "ipython3",
   "version": "3.7.4"
  }
 },
 "nbformat": 4,
 "nbformat_minor": 5
}

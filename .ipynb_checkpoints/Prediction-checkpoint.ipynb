{
 "cells": [
  {
   "cell_type": "code",
   "execution_count": 1,
   "id": "879a747c",
   "metadata": {},
   "outputs": [],
   "source": [
    "from pickle import load\n",
    "import pandas as pd\n",
    "import numpy as np\n",
    "from api_keys import g_key\n",
    "\n",
    "import gmaps\n",
    "\n",
    "import requests"
   ]
  },
  {
   "cell_type": "code",
   "execution_count": 2,
   "id": "19bbe1f6",
   "metadata": {},
   "outputs": [
    {
     "name": "stderr",
     "output_type": "stream",
     "text": [
      "/Users/iSabyasachi/opt/anaconda3/envs/Python3-8/lib/python3.8/site-packages/sklearn/base.py:324: UserWarning: Trying to unpickle estimator MLPRegressor from version 0.24.1 when using version 1.0.1. This might lead to breaking code or invalid results. Use at your own risk. For more info please refer to:\n",
      "https://scikit-learn.org/stable/modules/model_persistence.html#security-maintainability-limitations\n",
      "  warnings.warn(\n",
      "/Users/iSabyasachi/opt/anaconda3/envs/Python3-8/lib/python3.8/site-packages/sklearn/base.py:324: UserWarning: Trying to unpickle estimator RandomizedSearchCV from version 0.24.1 when using version 1.0.1. This might lead to breaking code or invalid results. Use at your own risk. For more info please refer to:\n",
      "https://scikit-learn.org/stable/modules/model_persistence.html#security-maintainability-limitations\n",
      "  warnings.warn(\n",
      "/Users/iSabyasachi/opt/anaconda3/envs/Python3-8/lib/python3.8/site-packages/sklearn/base.py:324: UserWarning: Trying to unpickle estimator StandardScaler from version 0.24.1 when using version 1.0.1. This might lead to breaking code or invalid results. Use at your own risk. For more info please refer to:\n",
      "https://scikit-learn.org/stable/modules/model_persistence.html#security-maintainability-limitations\n",
      "  warnings.warn(\n"
     ]
    }
   ],
   "source": [
    "model = load(open('model_artifacts/model.pkl', 'rb'))\n",
    "scalar = load(open('model_artifacts/scalar.pkl', 'rb'))\n",
    "\n",
    "bonus_model = load(open('model_artifacts/bonus_model.pkl', 'rb'))\n",
    "bonus_scalar = load(open('model_artifacts/bonus_scalar.pkl', 'rb'))\n",
    "\n",
    "equity_model = load(open('model_artifacts/equity_model.pkl', 'rb'))\n",
    "equity_scalar = load(open('model_artifacts/equity_scalar.pkl', 'rb'))\n"
   ]
  },
  {
   "cell_type": "code",
   "execution_count": 3,
   "id": "486fddb9",
   "metadata": {},
   "outputs": [],
   "source": [
    "def predict(yac, exp, level, d1, d2, d3):\n",
    "    X_be=np.array([[level, exp, yac, d1, d2, d3]])\n",
    "    X_be=X_be.reshape(1, -1)\n",
    "    bonus_scaled=bonus_scalar.transform(X_be)\n",
    "    bonus=bonus_model.predict(bonus_scaled)\n",
    "    \n",
    "    equity_scaled=equity_scalar.transform(X_be)\n",
    "    equity=equity_model.predict(equity_scaled)\n",
    "    \n",
    "    X=np.array([[level, exp, yac, d1, bonus, equity, d2, d3]])\n",
    "    X=X.reshape(1, -1)\n",
    "    scaled=scalar.transform(X)\n",
    "    salary=model.predict(scaled)\n",
    "    \n",
    "    print(bonus, equity, salary)\n",
    "    \n",
    "    Y=[bonus, equity, salary]\n",
    "    return Y\n",
    "\n",
    "    \n",
    "    \n",
    "    \n",
    "    \n",
    "    "
   ]
  },
  {
   "cell_type": "code",
   "execution_count": 4,
   "id": "7dea0a21",
   "metadata": {},
   "outputs": [],
   "source": [
    "def distances(origin_city, destination_cities, g_key):\n",
    "    base_url = \"https://maps.googleapis.com/maps/api/distancematrix/json?\"\n",
    "    distances=[]\n",
    "\n",
    "    \n",
    "    for i in range(len(destination_cities)):\n",
    "        \n",
    "        url=base_url+\"origins=\"+origin_city+\"&destinations=\"+destination_cities[i]+\"%20C\"+\"&key=\"+g_key\n",
    "\n",
    "        payload={}\n",
    "        headers = {}\n",
    "        response = requests.request(\"GET\", url, headers=headers, data=payload)\n",
    "\n",
    "        x=response.json()\n",
    "\n",
    "        y=x[\"rows\"][0][\"elements\"][0][\"distance\"][\"value\"]\n",
    "\n",
    "        distances.append(y)\n",
    "        \n",
    "    return(distances)\n"
   ]
  },
  {
   "cell_type": "code",
   "execution_count": 5,
   "id": "365c5051",
   "metadata": {},
   "outputs": [
    {
     "name": "stdout",
     "output_type": "stream",
     "text": [
      "Enter years at company(in years): 0\n",
      "Enter years of experience(in years): 13\n",
      "Enter company location city: Carmel\n",
      "Enter company location state abbreviation: IN\n",
      "\n",
      "\n",
      "\n",
      "Enter your level. Eg. 10 for VP, 1 for Junior for Associate Data Scientist\n",
      "Enter level: 8\n",
      "[26.55096361] [44.78831051] [263.86168468]\n"
     ]
    },
    {
     "name": "stderr",
     "output_type": "stream",
     "text": [
      "/var/folders/0_/vd_lh7fd3y1fk1xwqfbgdd_c0000gn/T/ipykernel_73859/2875263437.py:10: VisibleDeprecationWarning: Creating an ndarray from ragged nested sequences (which is a list-or-tuple of lists-or-tuples-or ndarrays with different lengths or shapes) is deprecated. If you meant to do this, you must specify 'dtype=object' when creating the ndarray\n",
      "  X=np.array([[level, exp, yac, d1, bonus, equity, d2, d3]])\n"
     ]
    }
   ],
   "source": [
    "yac=input(\"Enter years at company(in years): \")\n",
    "exp=input(\"Enter years of experience(in years): \")\n",
    "city=input(\"Enter company location city: \")\n",
    "state=input(\"Enter company location state abbreviation: \")\n",
    "origin_city=city+\"%20C\"+state\n",
    "destination_cities=[\"New York%20CNY\",\"San Francisco%20CCA\", \"Seattle%20CWA\"]\n",
    "\n",
    "D_y=distances(origin_city, destination_cities, g_key)\n",
    "\n",
    "print(\"Enter your level. Eg. 10 for VP, 1 for Junior for Associate Data Scientist\")\n",
    "level=input(\"Enter level: \")\n",
    "\n",
    "result=predict(yac, exp, level, D_y[0], D_y[1], D_y[2])"
   ]
  },
  {
   "cell_type": "code",
   "execution_count": null,
   "id": "9753b031",
   "metadata": {},
   "outputs": [],
   "source": [
    "print(D_y)"
   ]
  },
  {
   "cell_type": "code",
   "execution_count": null,
   "id": "37cca846",
   "metadata": {},
   "outputs": [],
   "source": [
    "yac=0\n",
    "exp=13\n",
    "level=8\n",
    "#Carmel, IN\n",
    "destination_cities=[\"New York%20CNY\",\"San Francisco%20CCA\", \"Seattle%20CWA\"]\n",
    "d1=1149000\n",
    "d2=3659648\n",
    "d3=3667695\n",
    "\n",
    "result=predict(yac, exp, level, d1, d2, d3)"
   ]
  },
  {
   "cell_type": "code",
   "execution_count": null,
   "id": "732eff5a",
   "metadata": {},
   "outputs": [],
   "source": [
    "yac=input(\"Enter years at company(in years): \")\n",
    "exp=input(\"Enter years of experience(in years): \")\n",
    "city=input(\"Enter company location city: \")\n",
    "state=input(\"Enter company location state abbreviation: \")\n",
    "origin_city=city+\"%20C\"+state\n",
    "print(\"Enter your level. Eg. 10 for VP, 1 for Junior for Associate Data Scientist\")\n",
    "level=input(\"Enter level: \")\n"
   ]
  },
  {
   "cell_type": "code",
   "execution_count": null,
   "id": "b899fb47",
   "metadata": {},
   "outputs": [],
   "source": [
    "yac=0\n",
    "exp=4\n",
    "level=5\n",
    "#San Jose\n",
    "d1=4733129\n",
    "d2=75992\n",
    "d3=1349713\n",
    "\n",
    "\n",
    "\n",
    "predict(yac, exp, level, d1, d2, d3)\n",
    "\n"
   ]
  }
 ],
 "metadata": {
  "kernelspec": {
   "display_name": "Python 3 (ipykernel)",
   "language": "python",
   "name": "python3"
  },
  "language_info": {
   "codemirror_mode": {
    "name": "ipython",
    "version": 3
   },
   "file_extension": ".py",
   "mimetype": "text/x-python",
   "name": "python",
   "nbconvert_exporter": "python",
   "pygments_lexer": "ipython3",
   "version": "3.8.8"
  }
 },
 "nbformat": 4,
 "nbformat_minor": 5
}

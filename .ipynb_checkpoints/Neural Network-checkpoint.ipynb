{
 "cells": [
  {
   "cell_type": "code",
   "execution_count": 47,
   "id": "19b58a3f",
   "metadata": {},
   "outputs": [
    {
     "data": {
      "text/html": [
       "<div>\n",
       "<style scoped>\n",
       "    .dataframe tbody tr th:only-of-type {\n",
       "        vertical-align: middle;\n",
       "    }\n",
       "\n",
       "    .dataframe tbody tr th {\n",
       "        vertical-align: top;\n",
       "    }\n",
       "\n",
       "    .dataframe thead th {\n",
       "        text-align: right;\n",
       "    }\n",
       "</style>\n",
       "<table border=\"1\" class=\"dataframe\">\n",
       "  <thead>\n",
       "    <tr style=\"text-align: right;\">\n",
       "      <th></th>\n",
       "      <th>Unnamed: 0</th>\n",
       "      <th>timestamp</th>\n",
       "      <th>company</th>\n",
       "      <th>level</th>\n",
       "      <th>title</th>\n",
       "      <th>totalyearlycompensation</th>\n",
       "      <th>yearsofexperience</th>\n",
       "      <th>yearsatcompany</th>\n",
       "      <th>city</th>\n",
       "      <th>state</th>\n",
       "      <th>country</th>\n",
       "      <th>city_state</th>\n",
       "      <th>distance_NY</th>\n",
       "      <th>distance_SF</th>\n",
       "      <th>distance_seattle</th>\n",
       "    </tr>\n",
       "  </thead>\n",
       "  <tbody>\n",
       "    <tr>\n",
       "      <th>0</th>\n",
       "      <td>745</td>\n",
       "      <td>2018-06-05 14:06:30</td>\n",
       "      <td>LinkedIn</td>\n",
       "      <td>5.0</td>\n",
       "      <td>Data Scientist</td>\n",
       "      <td>233.0</td>\n",
       "      <td>4.0</td>\n",
       "      <td>0.0</td>\n",
       "      <td>San Francisco</td>\n",
       "      <td>CA</td>\n",
       "      <td>US</td>\n",
       "      <td>San Francisco%20CCA</td>\n",
       "      <td>4680488</td>\n",
       "      <td>110</td>\n",
       "      <td>1297072</td>\n",
       "    </tr>\n",
       "    <tr>\n",
       "      <th>1</th>\n",
       "      <td>772</td>\n",
       "      <td>2018-06-08 00:29:47</td>\n",
       "      <td>Amazon</td>\n",
       "      <td>4.0</td>\n",
       "      <td>Data Scientist</td>\n",
       "      <td>140.0</td>\n",
       "      <td>2.0</td>\n",
       "      <td>2.0</td>\n",
       "      <td>Seattle</td>\n",
       "      <td>WA</td>\n",
       "      <td>US</td>\n",
       "      <td>Seattle%20CWA</td>\n",
       "      <td>4606061</td>\n",
       "      <td>1296231</td>\n",
       "      <td>798</td>\n",
       "    </tr>\n",
       "    <tr>\n",
       "      <th>2</th>\n",
       "      <td>776</td>\n",
       "      <td>2018-06-08 09:49:25</td>\n",
       "      <td>Microsoft</td>\n",
       "      <td>64.0</td>\n",
       "      <td>Data Scientist</td>\n",
       "      <td>218.0</td>\n",
       "      <td>11.0</td>\n",
       "      <td>11.0</td>\n",
       "      <td>Seattle</td>\n",
       "      <td>WA</td>\n",
       "      <td>US</td>\n",
       "      <td>Seattle%20CWA</td>\n",
       "      <td>4606061</td>\n",
       "      <td>1296231</td>\n",
       "      <td>798</td>\n",
       "    </tr>\n",
       "    <tr>\n",
       "      <th>3</th>\n",
       "      <td>782</td>\n",
       "      <td>2018-06-08 17:55:09</td>\n",
       "      <td>ebay</td>\n",
       "      <td>26.0</td>\n",
       "      <td>Data Scientist</td>\n",
       "      <td>180.0</td>\n",
       "      <td>10.0</td>\n",
       "      <td>5.0</td>\n",
       "      <td>San Jose</td>\n",
       "      <td>CA</td>\n",
       "      <td>US</td>\n",
       "      <td>San Jose%20CCA</td>\n",
       "      <td>4733129</td>\n",
       "      <td>75992</td>\n",
       "      <td>1349713</td>\n",
       "    </tr>\n",
       "    <tr>\n",
       "      <th>4</th>\n",
       "      <td>796</td>\n",
       "      <td>2018-06-10 19:39:35</td>\n",
       "      <td>Twitter</td>\n",
       "      <td>4.0</td>\n",
       "      <td>Data Scientist</td>\n",
       "      <td>500.0</td>\n",
       "      <td>4.0</td>\n",
       "      <td>4.0</td>\n",
       "      <td>San Francisco</td>\n",
       "      <td>CA</td>\n",
       "      <td>US</td>\n",
       "      <td>San Francisco%20CCA</td>\n",
       "      <td>4680488</td>\n",
       "      <td>110</td>\n",
       "      <td>1297072</td>\n",
       "    </tr>\n",
       "  </tbody>\n",
       "</table>\n",
       "</div>"
      ],
      "text/plain": [
       "   Unnamed: 0            timestamp    company  level           title  \\\n",
       "0         745  2018-06-05 14:06:30   LinkedIn    5.0  Data Scientist   \n",
       "1         772  2018-06-08 00:29:47     Amazon    4.0  Data Scientist   \n",
       "2         776  2018-06-08 09:49:25  Microsoft   64.0  Data Scientist   \n",
       "3         782  2018-06-08 17:55:09       ebay   26.0  Data Scientist   \n",
       "4         796  2018-06-10 19:39:35    Twitter    4.0  Data Scientist   \n",
       "\n",
       "   totalyearlycompensation  yearsofexperience  yearsatcompany           city  \\\n",
       "0                    233.0                4.0             0.0  San Francisco   \n",
       "1                    140.0                2.0             2.0        Seattle   \n",
       "2                    218.0               11.0            11.0        Seattle   \n",
       "3                    180.0               10.0             5.0       San Jose   \n",
       "4                    500.0                4.0             4.0  San Francisco   \n",
       "\n",
       "  state country           city_state distance_NY distance_SF distance_seattle  \n",
       "0    CA      US  San Francisco%20CCA     4680488         110          1297072  \n",
       "1    WA      US        Seattle%20CWA     4606061     1296231              798  \n",
       "2    WA      US        Seattle%20CWA     4606061     1296231              798  \n",
       "3    CA      US       San Jose%20CCA     4733129       75992          1349713  \n",
       "4    CA      US  San Francisco%20CCA     4680488         110          1297072  "
      ]
     },
     "execution_count": 47,
     "metadata": {},
     "output_type": "execute_result"
    }
   ],
   "source": [
    "from sklearn.neural_network import MLPRegressor\n",
    "from sklearn.model_selection import train_test_split\n",
    "from sklearn.preprocessing import StandardScaler\n",
    "from sklearn.metrics import r2_score\n",
    "import pandas as pd\n",
    "\n",
    "df = pd.read_csv(\"salaries_modified.csv\")\n",
    "# Drop the null columns where all values are null\n",
    "df = df.dropna(axis='columns', how='all')\n",
    "# Drop the null rows\n",
    "df = df.dropna()\n",
    "df.head()"
   ]
  },
  {
   "cell_type": "code",
   "execution_count": 48,
   "id": "1aa7a633",
   "metadata": {},
   "outputs": [
    {
     "name": "stdout",
     "output_type": "stream",
     "text": [
      "<class 'pandas.core.frame.DataFrame'>\n",
      "Int64Index: 2056 entries, 0 to 2055\n",
      "Data columns (total 15 columns):\n",
      " #   Column                   Non-Null Count  Dtype  \n",
      "---  ------                   --------------  -----  \n",
      " 0   Unnamed: 0               2056 non-null   int64  \n",
      " 1   timestamp                2056 non-null   object \n",
      " 2   company                  2056 non-null   object \n",
      " 3   level                    2056 non-null   float64\n",
      " 4   title                    2056 non-null   object \n",
      " 5   totalyearlycompensation  2056 non-null   float64\n",
      " 6   yearsofexperience        2056 non-null   float64\n",
      " 7   yearsatcompany           2056 non-null   float64\n",
      " 8   city                     2056 non-null   object \n",
      " 9   state                    2056 non-null   object \n",
      " 10  country                  2056 non-null   object \n",
      " 11  city_state               2056 non-null   object \n",
      " 12  distance_NY              2056 non-null   object \n",
      " 13  distance_SF              2056 non-null   object \n",
      " 14  distance_seattle         2056 non-null   object \n",
      "dtypes: float64(4), int64(1), object(10)\n",
      "memory usage: 257.0+ KB\n"
     ]
    }
   ],
   "source": [
    "df.info()"
   ]
  },
  {
   "cell_type": "code",
   "execution_count": 49,
   "id": "9f6c326f",
   "metadata": {},
   "outputs": [],
   "source": [
    "def clean_dist(dist):\n",
    "    if dist == 'None':\n",
    "        return None\n",
    "    try:\n",
    "        return int(dist)\n",
    "    except:\n",
    "        return None"
   ]
  },
  {
   "cell_type": "code",
   "execution_count": 50,
   "id": "48ec6362",
   "metadata": {},
   "outputs": [],
   "source": [
    "for col in ['distance_NY', 'distance_SF', 'distance_seattle']:\n",
    "    df[col]=df[col].apply(lambda x: clean_dist(x))"
   ]
  },
  {
   "cell_type": "code",
   "execution_count": 51,
   "id": "bd331dcd",
   "metadata": {},
   "outputs": [],
   "source": [
    "for col in ['distance_NY','distance_SF','distance_seattle']:\n",
    "    df = df[df[col].notnull()].copy()\n",
    "    "
   ]
  },
  {
   "cell_type": "code",
   "execution_count": 52,
   "id": "ccd4832a",
   "metadata": {},
   "outputs": [],
   "source": [
    "# Set features. This will also be used as your x values.\n",
    "selected_features = df[['level', 'yearsofexperience', 'yearsatcompany', 'distance_NY', 'distance_SF', 'distance_seattle']]"
   ]
  },
  {
   "cell_type": "code",
   "execution_count": 53,
   "id": "035b1de9",
   "metadata": {},
   "outputs": [
    {
     "name": "stdout",
     "output_type": "stream",
     "text": [
      "<class 'pandas.core.frame.DataFrame'>\n",
      "Int64Index: 2055 entries, 0 to 2055\n",
      "Data columns (total 6 columns):\n",
      " #   Column             Non-Null Count  Dtype  \n",
      "---  ------             --------------  -----  \n",
      " 0   level              2055 non-null   float64\n",
      " 1   yearsofexperience  2055 non-null   float64\n",
      " 2   yearsatcompany     2055 non-null   float64\n",
      " 3   distance_NY        2055 non-null   float64\n",
      " 4   distance_SF        2055 non-null   float64\n",
      " 5   distance_seattle   2055 non-null   float64\n",
      "dtypes: float64(6)\n",
      "memory usage: 112.4 KB\n"
     ]
    }
   ],
   "source": [
    "selected_features.info()"
   ]
  },
  {
   "cell_type": "code",
   "execution_count": 54,
   "id": "6d6aa5c6",
   "metadata": {},
   "outputs": [
    {
     "name": "stdout",
     "output_type": "stream",
     "text": [
      "<class 'pandas.core.frame.DataFrame'>\n",
      "Int64Index: 2055 entries, 0 to 2055\n",
      "Data columns (total 6 columns):\n",
      " #   Column             Non-Null Count  Dtype  \n",
      "---  ------             --------------  -----  \n",
      " 0   level              2055 non-null   float64\n",
      " 1   yearsofexperience  2055 non-null   float64\n",
      " 2   yearsatcompany     2055 non-null   float64\n",
      " 3   distance_NY        2055 non-null   float64\n",
      " 4   distance_SF        2055 non-null   float64\n",
      " 5   distance_seattle   2055 non-null   float64\n",
      "dtypes: float64(6)\n",
      "memory usage: 112.4 KB\n"
     ]
    }
   ],
   "source": [
    "selected_features = selected_features[selected_features.notnull()].copy()\n",
    "selected_features.info()"
   ]
  },
  {
   "cell_type": "code",
   "execution_count": 55,
   "id": "a4503352",
   "metadata": {},
   "outputs": [
    {
     "name": "stdout",
     "output_type": "stream",
     "text": [
      "<class 'pandas.core.frame.DataFrame'>\n",
      "Int64Index: 2055 entries, 0 to 2055\n",
      "Data columns (total 6 columns):\n",
      " #   Column             Non-Null Count  Dtype  \n",
      "---  ------             --------------  -----  \n",
      " 0   level              2055 non-null   float64\n",
      " 1   yearsofexperience  2055 non-null   float64\n",
      " 2   yearsatcompany     2055 non-null   float64\n",
      " 3   distance_NY        2055 non-null   float64\n",
      " 4   distance_SF        2055 non-null   float64\n",
      " 5   distance_seattle   2055 non-null   float64\n",
      "dtypes: float64(6)\n",
      "memory usage: 112.4 KB\n"
     ]
    }
   ],
   "source": [
    "selected_features.info()"
   ]
  },
  {
   "cell_type": "code",
   "execution_count": 56,
   "id": "272ff8d7",
   "metadata": {},
   "outputs": [
    {
     "data": {
      "text/plain": [
       "2055"
      ]
     },
     "execution_count": 56,
     "metadata": {},
     "output_type": "execute_result"
    }
   ],
   "source": [
    "import numpy as np\n",
    "inf_df = selected_features.isin([np.inf, -np.inf])\n",
    "len(inf_df)"
   ]
  },
  {
   "cell_type": "code",
   "execution_count": 57,
   "id": "a1fe890d",
   "metadata": {},
   "outputs": [
    {
     "data": {
      "text/html": [
       "<div>\n",
       "<style scoped>\n",
       "    .dataframe tbody tr th:only-of-type {\n",
       "        vertical-align: middle;\n",
       "    }\n",
       "\n",
       "    .dataframe tbody tr th {\n",
       "        vertical-align: top;\n",
       "    }\n",
       "\n",
       "    .dataframe thead th {\n",
       "        text-align: right;\n",
       "    }\n",
       "</style>\n",
       "<table border=\"1\" class=\"dataframe\">\n",
       "  <thead>\n",
       "    <tr style=\"text-align: right;\">\n",
       "      <th></th>\n",
       "      <th>level</th>\n",
       "      <th>yearsofexperience</th>\n",
       "      <th>yearsatcompany</th>\n",
       "      <th>distance_NY</th>\n",
       "      <th>distance_SF</th>\n",
       "      <th>distance_seattle</th>\n",
       "    </tr>\n",
       "  </thead>\n",
       "  <tbody>\n",
       "    <tr>\n",
       "      <th>0</th>\n",
       "      <td>5.0</td>\n",
       "      <td>4.0</td>\n",
       "      <td>0.0</td>\n",
       "      <td>4680488.0</td>\n",
       "      <td>110.0</td>\n",
       "      <td>1297072.0</td>\n",
       "    </tr>\n",
       "    <tr>\n",
       "      <th>1</th>\n",
       "      <td>4.0</td>\n",
       "      <td>2.0</td>\n",
       "      <td>2.0</td>\n",
       "      <td>4606061.0</td>\n",
       "      <td>1296231.0</td>\n",
       "      <td>798.0</td>\n",
       "    </tr>\n",
       "    <tr>\n",
       "      <th>2</th>\n",
       "      <td>64.0</td>\n",
       "      <td>11.0</td>\n",
       "      <td>11.0</td>\n",
       "      <td>4606061.0</td>\n",
       "      <td>1296231.0</td>\n",
       "      <td>798.0</td>\n",
       "    </tr>\n",
       "    <tr>\n",
       "      <th>3</th>\n",
       "      <td>26.0</td>\n",
       "      <td>10.0</td>\n",
       "      <td>5.0</td>\n",
       "      <td>4733129.0</td>\n",
       "      <td>75992.0</td>\n",
       "      <td>1349713.0</td>\n",
       "    </tr>\n",
       "    <tr>\n",
       "      <th>4</th>\n",
       "      <td>4.0</td>\n",
       "      <td>4.0</td>\n",
       "      <td>4.0</td>\n",
       "      <td>4680488.0</td>\n",
       "      <td>110.0</td>\n",
       "      <td>1297072.0</td>\n",
       "    </tr>\n",
       "  </tbody>\n",
       "</table>\n",
       "</div>"
      ],
      "text/plain": [
       "   level  yearsofexperience  yearsatcompany  distance_NY  distance_SF  \\\n",
       "0    5.0                4.0             0.0    4680488.0        110.0   \n",
       "1    4.0                2.0             2.0    4606061.0    1296231.0   \n",
       "2   64.0               11.0            11.0    4606061.0    1296231.0   \n",
       "3   26.0               10.0             5.0    4733129.0      75992.0   \n",
       "4    4.0                4.0             4.0    4680488.0        110.0   \n",
       "\n",
       "   distance_seattle  \n",
       "0         1297072.0  \n",
       "1             798.0  \n",
       "2             798.0  \n",
       "3         1349713.0  \n",
       "4         1297072.0  "
      ]
     },
     "execution_count": 57,
     "metadata": {},
     "output_type": "execute_result"
    }
   ],
   "source": [
    "selected_features.head()"
   ]
  },
  {
   "cell_type": "code",
   "execution_count": 58,
   "id": "aede3b50",
   "metadata": {},
   "outputs": [
    {
     "data": {
      "text/html": [
       "<div>\n",
       "<style scoped>\n",
       "    .dataframe tbody tr th:only-of-type {\n",
       "        vertical-align: middle;\n",
       "    }\n",
       "\n",
       "    .dataframe tbody tr th {\n",
       "        vertical-align: top;\n",
       "    }\n",
       "\n",
       "    .dataframe thead th {\n",
       "        text-align: right;\n",
       "    }\n",
       "</style>\n",
       "<table border=\"1\" class=\"dataframe\">\n",
       "  <thead>\n",
       "    <tr style=\"text-align: right;\">\n",
       "      <th></th>\n",
       "      <th>Unnamed: 0</th>\n",
       "      <th>level</th>\n",
       "      <th>totalyearlycompensation</th>\n",
       "      <th>yearsofexperience</th>\n",
       "      <th>yearsatcompany</th>\n",
       "      <th>distance_NY</th>\n",
       "      <th>distance_SF</th>\n",
       "      <th>distance_seattle</th>\n",
       "    </tr>\n",
       "  </thead>\n",
       "  <tbody>\n",
       "    <tr>\n",
       "      <th>count</th>\n",
       "      <td>2055.000000</td>\n",
       "      <td>2055.000000</td>\n",
       "      <td>2055.000000</td>\n",
       "      <td>2055.000000</td>\n",
       "      <td>2055.000000</td>\n",
       "      <td>2.055000e+03</td>\n",
       "      <td>2.055000e+03</td>\n",
       "      <td>2.055000e+03</td>\n",
       "    </tr>\n",
       "    <tr>\n",
       "      <th>mean</th>\n",
       "      <td>31790.884672</td>\n",
       "      <td>14.421898</td>\n",
       "      <td>221.609732</td>\n",
       "      <td>5.027251</td>\n",
       "      <td>2.036667</td>\n",
       "      <td>3.493419e+06</td>\n",
       "      <td>1.605568e+06</td>\n",
       "      <td>1.932465e+06</td>\n",
       "    </tr>\n",
       "    <tr>\n",
       "      <th>std</th>\n",
       "      <td>18164.814512</td>\n",
       "      <td>48.636267</td>\n",
       "      <td>105.692401</td>\n",
       "      <td>4.026233</td>\n",
       "      <td>2.237007</td>\n",
       "      <td>1.824317e+06</td>\n",
       "      <td>1.788747e+06</td>\n",
       "      <td>1.625972e+06</td>\n",
       "    </tr>\n",
       "    <tr>\n",
       "      <th>min</th>\n",
       "      <td>745.000000</td>\n",
       "      <td>0.000000</td>\n",
       "      <td>16.000000</td>\n",
       "      <td>0.000000</td>\n",
       "      <td>0.000000</td>\n",
       "      <td>1.000700e+04</td>\n",
       "      <td>1.100000e+02</td>\n",
       "      <td>7.980000e+02</td>\n",
       "    </tr>\n",
       "    <tr>\n",
       "      <th>25%</th>\n",
       "      <td>16258.500000</td>\n",
       "      <td>4.000000</td>\n",
       "      <td>150.000000</td>\n",
       "      <td>2.000000</td>\n",
       "      <td>0.100000</td>\n",
       "      <td>2.076857e+06</td>\n",
       "      <td>5.239400e+04</td>\n",
       "      <td>1.297072e+06</td>\n",
       "    </tr>\n",
       "    <tr>\n",
       "      <th>50%</th>\n",
       "      <td>31591.000000</td>\n",
       "      <td>5.000000</td>\n",
       "      <td>200.000000</td>\n",
       "      <td>4.000000</td>\n",
       "      <td>2.000000</td>\n",
       "      <td>4.606061e+06</td>\n",
       "      <td>1.296231e+06</td>\n",
       "      <td>1.348731e+06</td>\n",
       "    </tr>\n",
       "    <tr>\n",
       "      <th>75%</th>\n",
       "      <td>48258.000000</td>\n",
       "      <td>6.000000</td>\n",
       "      <td>260.000000</td>\n",
       "      <td>7.000000</td>\n",
       "      <td>3.000000</td>\n",
       "      <td>4.680488e+06</td>\n",
       "      <td>3.100688e+06</td>\n",
       "      <td>3.363231e+06</td>\n",
       "    </tr>\n",
       "    <tr>\n",
       "      <th>max</th>\n",
       "      <td>62610.000000</td>\n",
       "      <td>603.000000</td>\n",
       "      <td>1000.000000</td>\n",
       "      <td>34.000000</td>\n",
       "      <td>20.000000</td>\n",
       "      <td>4.796489e+06</td>\n",
       "      <td>4.977621e+06</td>\n",
       "      <td>5.305593e+06</td>\n",
       "    </tr>\n",
       "  </tbody>\n",
       "</table>\n",
       "</div>"
      ],
      "text/plain": [
       "         Unnamed: 0        level  totalyearlycompensation  yearsofexperience  \\\n",
       "count   2055.000000  2055.000000              2055.000000        2055.000000   \n",
       "mean   31790.884672    14.421898               221.609732           5.027251   \n",
       "std    18164.814512    48.636267               105.692401           4.026233   \n",
       "min      745.000000     0.000000                16.000000           0.000000   \n",
       "25%    16258.500000     4.000000               150.000000           2.000000   \n",
       "50%    31591.000000     5.000000               200.000000           4.000000   \n",
       "75%    48258.000000     6.000000               260.000000           7.000000   \n",
       "max    62610.000000   603.000000              1000.000000          34.000000   \n",
       "\n",
       "       yearsatcompany   distance_NY   distance_SF  distance_seattle  \n",
       "count     2055.000000  2.055000e+03  2.055000e+03      2.055000e+03  \n",
       "mean         2.036667  3.493419e+06  1.605568e+06      1.932465e+06  \n",
       "std          2.237007  1.824317e+06  1.788747e+06      1.625972e+06  \n",
       "min          0.000000  1.000700e+04  1.100000e+02      7.980000e+02  \n",
       "25%          0.100000  2.076857e+06  5.239400e+04      1.297072e+06  \n",
       "50%          2.000000  4.606061e+06  1.296231e+06      1.348731e+06  \n",
       "75%          3.000000  4.680488e+06  3.100688e+06      3.363231e+06  \n",
       "max         20.000000  4.796489e+06  4.977621e+06      5.305593e+06  "
      ]
     },
     "execution_count": 58,
     "metadata": {},
     "output_type": "execute_result"
    }
   ],
   "source": [
    "df.describe()"
   ]
  },
  {
   "cell_type": "code",
   "execution_count": 59,
   "id": "c608241a",
   "metadata": {},
   "outputs": [],
   "source": [
    "\n",
    "X = selected_features\n",
    "y = df.totalyearlycompensation\n",
    "X_train, X_test, y_train, y_test = train_test_split(X, y,random_state=1, test_size=0.2)"
   ]
  },
  {
   "cell_type": "code",
   "execution_count": 60,
   "id": "75303b73",
   "metadata": {},
   "outputs": [
    {
     "data": {
      "text/plain": [
       "(2055, 6)"
      ]
     },
     "execution_count": 60,
     "metadata": {},
     "output_type": "execute_result"
    }
   ],
   "source": [
    "X.shape"
   ]
  },
  {
   "cell_type": "code",
   "execution_count": 61,
   "id": "603f354b",
   "metadata": {},
   "outputs": [
    {
     "data": {
      "text/plain": [
       "(2055,)"
      ]
     },
     "execution_count": 61,
     "metadata": {},
     "output_type": "execute_result"
    }
   ],
   "source": [
    "y.shape"
   ]
  },
  {
   "cell_type": "code",
   "execution_count": 62,
   "id": "d03d8203",
   "metadata": {},
   "outputs": [
    {
     "data": {
      "text/plain": [
       "<bound method NDFrame.head of 0       233.0\n",
       "1       140.0\n",
       "2       218.0\n",
       "3       180.0\n",
       "4       500.0\n",
       "        ...  \n",
       "2051    250.0\n",
       "2052    145.0\n",
       "2053    110.0\n",
       "2054    120.0\n",
       "2055    233.0\n",
       "Name: totalyearlycompensation, Length: 2055, dtype: float64>"
      ]
     },
     "execution_count": 62,
     "metadata": {},
     "output_type": "execute_result"
    }
   ],
   "source": [
    "y.head"
   ]
  },
  {
   "cell_type": "code",
   "execution_count": 63,
   "id": "6b2e7d46",
   "metadata": {},
   "outputs": [
    {
     "data": {
      "text/plain": [
       "level                float64\n",
       "yearsofexperience    float64\n",
       "yearsatcompany       float64\n",
       "distance_NY          float64\n",
       "distance_SF          float64\n",
       "distance_seattle     float64\n",
       "dtype: object"
      ]
     },
     "execution_count": 63,
     "metadata": {},
     "output_type": "execute_result"
    }
   ],
   "source": [
    "X.dtypes"
   ]
  },
  {
   "cell_type": "code",
   "execution_count": 64,
   "id": "52ca1a72",
   "metadata": {},
   "outputs": [],
   "source": [
    "\n",
    "sc_X = StandardScaler()\n",
    "X_trainscaled=sc_X.fit_transform(X_train)\n",
    "X_testscaled=sc_X.transform(X_test)"
   ]
  },
  {
   "cell_type": "code",
   "execution_count": 65,
   "id": "8665af2e",
   "metadata": {},
   "outputs": [
    {
     "data": {
      "text/plain": [
       "(array([], dtype=int64), array([], dtype=int64))"
      ]
     },
     "execution_count": 65,
     "metadata": {},
     "output_type": "execute_result"
    }
   ],
   "source": [
    "np.where(np.isnan(X_trainscaled))"
   ]
  },
  {
   "cell_type": "code",
   "execution_count": 66,
   "id": "08c22909",
   "metadata": {},
   "outputs": [],
   "source": [
    "reg = MLPRegressor(hidden_layer_sizes=(200,100,50),activation=\"relu\" ,\n",
    "                   random_state=42, learning_rate='adaptive', max_iter=2000, solver='adam', early_stopping=True).fit(X_trainscaled, y_train)\n"
   ]
  },
  {
   "cell_type": "code",
   "execution_count": 67,
   "id": "f49b9f38",
   "metadata": {},
   "outputs": [
    {
     "name": "stdout",
     "output_type": "stream",
     "text": [
      "The Score with  59.1747030322278\n"
     ]
    }
   ],
   "source": [
    "from sklearn.metrics import mean_absolute_error\n",
    "y_pred=reg.predict(X_testscaled)\n",
    "print(\"The Score with \", (mean_absolute_error(y_pred, y_test)))"
   ]
  },
  {
   "cell_type": "code",
   "execution_count": null,
   "id": "c264e350",
   "metadata": {},
   "outputs": [],
   "source": []
  },
  {
   "cell_type": "code",
   "execution_count": 68,
   "id": "f4ddd099",
   "metadata": {},
   "outputs": [
    {
     "ename": "NameError",
     "evalue": "name 'your_model' is not defined",
     "output_type": "error",
     "traceback": [
      "\u001b[1;31m---------------------------------------------------------------------------\u001b[0m",
      "\u001b[1;31mNameError\u001b[0m                                 Traceback (most recent call last)",
      "\u001b[1;32m<ipython-input-68-7ffc35e2dc82>\u001b[0m in \u001b[0;36m<module>\u001b[1;34m\u001b[0m\n\u001b[0;32m      5\u001b[0m \u001b[1;32mimport\u001b[0m \u001b[0mjoblib\u001b[0m\u001b[1;33m\u001b[0m\u001b[1;33m\u001b[0m\u001b[0m\n\u001b[0;32m      6\u001b[0m \u001b[0mfilename\u001b[0m \u001b[1;33m=\u001b[0m \u001b[1;34m'your_name.sav'\u001b[0m\u001b[1;33m\u001b[0m\u001b[1;33m\u001b[0m\u001b[0m\n\u001b[1;32m----> 7\u001b[1;33m \u001b[0mjoblib\u001b[0m\u001b[1;33m.\u001b[0m\u001b[0mdump\u001b[0m\u001b[1;33m(\u001b[0m\u001b[0myour_model\u001b[0m\u001b[1;33m,\u001b[0m \u001b[0mfilename\u001b[0m\u001b[1;33m)\u001b[0m\u001b[1;33m\u001b[0m\u001b[1;33m\u001b[0m\u001b[0m\n\u001b[0m",
      "\u001b[1;31mNameError\u001b[0m: name 'your_model' is not defined"
     ]
    }
   ],
   "source": [
    "# save your model by updating \"your_name\" with your name\n",
    "# and \"your_model\" with your model variable\n",
    "# be sure to turn this in to BCS\n",
    "# if joblib fails to import, try running the command to install in terminal/git-bash\n",
    "import joblib\n",
    "filename = 'your_name.sav'\n",
    "joblib.dump(your_model, filename)"
   ]
  },
  {
   "cell_type": "code",
   "execution_count": null,
   "id": "eebf5e09",
   "metadata": {},
   "outputs": [],
   "source": []
  }
 ],
 "metadata": {
  "kernelspec": {
   "display_name": "Python 3",
   "language": "python",
   "name": "python3"
  },
  "language_info": {
   "codemirror_mode": {
    "name": "ipython",
    "version": 3
   },
   "file_extension": ".py",
   "mimetype": "text/x-python",
   "name": "python",
   "nbconvert_exporter": "python",
   "pygments_lexer": "ipython3",
   "version": "3.8.8"
  }
 },
 "nbformat": 4,
 "nbformat_minor": 5
}
